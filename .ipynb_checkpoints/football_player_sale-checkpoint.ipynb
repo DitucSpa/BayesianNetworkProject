{
 "cells": [
  {
   "cell_type": "markdown",
   "id": "43fc00df",
   "metadata": {},
   "source": [
    "# football_player_sale Network\n",
    "- build the network (should i sell this player? What is the probability?);\n",
    "- create a print function for plotting the CPDs in a better way;\n",
    "- insert the CPDs inside the network;\n",
    "- select the evidence(s); the user can select its own customized query;\n",
    "- exact value (inference by elimination);\n",
    "- approximate value (with samples using likelihood weighted);\n",
    "- results (also with a comparing with the exact value, for showing the convergence of the probability given the samples)."
   ]
  },
  {
   "cell_type": "code",
   "execution_count": 1,
   "id": "d23ec663",
   "metadata": {},
   "outputs": [],
   "source": [
    "import numpy as np\n",
    "import matplotlib.pyplot as plt\n",
    "from pgmpy.factors.discrete import State\n",
    "from pgmpy.models import BayesianNetwork\n",
    "from pgmpy.factors.discrete import TabularCPD\n",
    "from pgmpy.inference import VariableElimination\n",
    "from pgmpy.sampling import BayesianModelSampling"
   ]
  },
  {
   "cell_type": "markdown",
   "id": "c39ec58d",
   "metadata": {},
   "source": [
    "### 1. Build the Network\n",
    "Now we build our Bayesian Network, based on the consideration of Chapter 1 of the Report."
   ]
  },
  {
   "cell_type": "code",
   "execution_count": 2,
   "id": "38090516",
   "metadata": {},
   "outputs": [],
   "source": [
    "list_of_edges = []\n",
    "\n",
    "\n",
    "list_of_edges.append((\"age\", \"player_overall\"))\n",
    "list_of_edges.append((\"last_year_performance\", \"player_overall\"))\n",
    "list_of_edges.append((\"club_economic_situation\", \"Sell\"))\n",
    "\n",
    "list_of_edges.append((\"player_overall\", \"youth_accademy_alternative\"))\n",
    "list_of_edges.append((\"player_overall\", \"market_alternative\"))\n",
    "list_of_edges.append((\"youth_accademy_alternative\", \"player_alternative\"))\n",
    "list_of_edges.append((\"market_alternative\", \"player_alternative\"))\n",
    "list_of_edges.append((\"player_alternative\", \"Sell\"))\n",
    "\n",
    "network = BayesianNetwork(list_of_edges)"
   ]
  },
  {
   "cell_type": "markdown",
   "id": "0e963118",
   "metadata": {},
   "source": [
    "### 2. Create a Print Function\n",
    "This function let us show the CPDs with a better view, as shown in the block 3."
   ]
  },
  {
   "cell_type": "code",
   "execution_count": 3,
   "id": "1ae0630b",
   "metadata": {},
   "outputs": [],
   "source": [
    "# for building the table we use PrettyTable\n",
    "# !pip install prettytable\n",
    "from prettytable import PrettyTable\n",
    "import itertools as it\n",
    "\n",
    "# it gets the values from the matrix of probability \n",
    "# it returns a new matrix of probability in the corresponding order\n",
    "# (see the function print_cpd(...))\n",
    "def get_values(values, index):\n",
    "    try:\n",
    "        _tmp = []   \n",
    "        for i in values:\n",
    "            _tmp.append(format(i[index], \".3f\"))\n",
    "        return _tmp\n",
    "    except:\n",
    "        return -1\n",
    "\n",
    "# if the shapes are different, it returns an error and the building of the table fail\n",
    "def probability_shape(list_name):\n",
    "    length = 0\n",
    "    count = 0\n",
    "    for a in list_name:\n",
    "        if not count == 0:\n",
    "            if not length == len(a):\n",
    "                return -1\n",
    "        length = len(a)\n",
    "        count = count + 1\n",
    "    return [count, length]\n",
    "def evidence_shape(evidence_list, node_list):\n",
    "    length = []\n",
    "    for a in evidence_list:\n",
    "        length.append(len(a)-1)\n",
    "    _tmp = 1\n",
    "    for a in length:\n",
    "        _tmp = _tmp * a\n",
    "    return [len(node_list)-1, _tmp]\n",
    "  \n",
    "# print the probabilities given their variables\n",
    "def print_cpd(node, probability, evidence=None):\n",
    "    try:\n",
    "        # if there aren't evidence, we simply assign the probability to each variable \n",
    "        if evidence == None:\n",
    "            variable = []\n",
    "            table = PrettyTable([node[0].upper(),\"Probability\".upper()])\n",
    "            for i in range(1, len(node)):\n",
    "                table.add_row([node[i],str(probability[i-1]).replace(\"[\",\"\").replace(\"]\",\"\")])\n",
    "            return table\n",
    "        \n",
    "        # at first we evaluate if the shapes are consistent\n",
    "        shape_probability = probability_shape(probability)\n",
    "        shape_evidence = evidence_shape(evidence, node)\n",
    "        if not shape_evidence == shape_probability:\n",
    "            raise Exception(\"The probability table and the evidence table don't have the same shape.\")\n",
    "        \n",
    "        # then we evaluate the evidence\n",
    "        title = []\n",
    "        combination = {}\n",
    "        for e in evidence:\n",
    "            key = \"\"\n",
    "            values = []\n",
    "            for i in range(0, len(e)):\n",
    "                if i == 0:\n",
    "                    key = e[i]\n",
    "                else:\n",
    "                    values.append(e[i])\n",
    "            combination[key] = values\n",
    "        \n",
    "        # we add the evidence to the table title\n",
    "        for key in combination.keys():\n",
    "            title.append(key.upper())\n",
    "        \n",
    "        # creation of all the combinations for each evidence\n",
    "        # (then, for each combination, we assign the corresponding probability)\n",
    "        combinations = it.product(*(combination[key] for key in combination.keys()))\n",
    "        \n",
    "        # also to the title we add the current node\n",
    "        node_name = str(node[0]) + \" (\"\n",
    "        for i in range(1,len(node)):\n",
    "            if i == len(node)-1:\n",
    "                node_name = node_name + str(node[i]) + \")\"\n",
    "            else:\n",
    "                node_name = node_name + str(node[i]) + \", \"\n",
    "        title.append(node_name.upper())\n",
    "    \n",
    "        # creation of the table using PrettyTable\n",
    "        table = PrettyTable(title)\n",
    "        count = 0\n",
    "        for r in combinations: \n",
    "            row = []\n",
    "            for a in r:\n",
    "                row.append(a)\n",
    "                \n",
    "            _probability_tmp = get_values(probability, count)\n",
    "            if _probability_tmp == -1:\n",
    "                raise Exception(\"There's something wrong with the probability table.\")\n",
    "            row.append(str(_probability_tmp).replace(\", \", \" - \").replace(\"[\",\"\").replace(\"]\",\"\").replace(\"'\",\"\"))\n",
    "            table.add_row(row)\n",
    "            count = count + 1\n",
    "        return table\n",
    "    except Exception as ex:\n",
    "        return ex"
   ]
  },
  {
   "cell_type": "markdown",
   "id": "39cd6b69",
   "metadata": {},
   "source": [
    "### 3. Insert the CPDs in the Network\n",
    "For the probabilities, we used the values from some websites, as shown in the Chapter 2."
   ]
  },
  {
   "cell_type": "code",
   "execution_count": 4,
   "id": "a82be5c5",
   "metadata": {},
   "outputs": [
    {
     "name": "stdout",
     "output_type": "stream",
     "text": [
      "+--------+-------------+\n",
      "|  AGE   | PROBABILITY |\n",
      "+--------+-------------+\n",
      "| young  |    0.355    |\n",
      "| mature |     0.48    |\n",
      "|  old   |    0.165    |\n",
      "+--------+-------------+\n",
      "+-----------------------+-------------+\n",
      "| LAST_YEAR_PERFORMANCE | PROBABILITY |\n",
      "+-----------------------+-------------+\n",
      "|   above_expectations  |    0.257    |\n",
      "|   under_expectations  |    0.743    |\n",
      "+-----------------------+-------------+\n",
      "+-------------------------+-------------+\n",
      "| CLUB_ECONOMIC_SITUATION | PROBABILITY |\n",
      "+-------------------------+-------------+\n",
      "|          stable         |     0.4     |\n",
      "|          debts          |     0.6     |\n",
      "+-------------------------+-------------+\n",
      "+-----------------------+--------+--------------------------------------------------------+\n",
      "| LAST_YEAR_PERFORMANCE |  AGE   | PLAYER_OVERALL (BAD_PLAYER, NORMAL_PLAYER, TOP_PLAYER) |\n",
      "+-----------------------+--------+--------------------------------------------------------+\n",
      "|   above_expectations  | young  |                 0.549 - 0.333 - 0.118                  |\n",
      "|   above_expectations  | mature |                 0.410 - 0.372 - 0.218                  |\n",
      "|   above_expectations  |  old   |                 0.400 - 0.320 - 0.280                  |\n",
      "|   under_expectations  | young  |                 0.410 - 0.372 - 0.218                  |\n",
      "|   under_expectations  | mature |                 0.590 - 0.257 - 0.153                  |\n",
      "|   under_expectations  |  old   |                 0.500 - 0.230 - 0.270                  |\n",
      "+-----------------------+--------+--------------------------------------------------------+\n"
     ]
    }
   ],
   "source": [
    "# create the CPDs for age, last_year_performance and player_overall\n",
    "# # evidence_card: cardinality/no. of states of variables in `evidence`(if any)\n",
    "cpd_age = TabularCPD(\"age\", 3, [[.355], [.480], [.165]])\n",
    "\n",
    "# the function wants: a list composed by the name of the node (first element)\n",
    "# and by the variables names, and a list of probabilities\n",
    "print(print_cpd([\"age\", \"young\", \"mature\", \"old\"], [[.355], [.480], [.165]]))\n",
    "\n",
    "cpd_last_year_performance = TabularCPD(\"last_year_performance\", 2, [[.257], [.743]])\n",
    "print(print_cpd([\"last_year_performance\", \"above_expectations\", \"under_expectations\"], [[.257], [.743]]))\n",
    "\n",
    "cpd_club_economic_situation = TabularCPD(\"club_economic_situation\", 2, [[.4], [.6]])\n",
    "print(print_cpd([\"club_economic_situation\", \"stable\", \"debts\"], [[.4], [.6]]))\n",
    "\n",
    "# values of probability for player_overall and its evidences age and last_year_performance\n",
    "# below you can see the print of the CPD for player_overall\n",
    "cpd_value_player_overall = [[.549, .410, .400, .410, .590, .500],\n",
    "                            [.333, .372, .320, .372, .257, .230],\n",
    "                            [.118, .218, .280, .218, .153, .270]]\n",
    "cpd_player_overall = TabularCPD(\"player_overall\", 3, cpd_value_player_overall, \n",
    "                           evidence = [\"last_year_performance\", \"age\"], evidence_card=[2, 3])\n",
    "\n",
    "# the function has some parameters:\n",
    "# 1. a list of evidence; every evidence is a list where the first element of the list is the name\n",
    "#    of the evidence and the others are the names of variables.\n",
    "# 2. a list of the variable names for the final node.\n",
    "# 3. the probabilities matrix.\n",
    "print(print_cpd([\"player_overall\", \"bad_player\", \"normal_player\", \"top_player\"], cpd_value_player_overall,\n",
    "                [[\"last_year_performance\", \"above_expectations\", \"under_expectations\"], \n",
    "                 [\"age\", \"young\", \"mature\", \"old\"]]))"
   ]
  },
  {
   "cell_type": "code",
   "execution_count": 5,
   "id": "ef6cd0b6",
   "metadata": {
    "scrolled": false
   },
   "outputs": [
    {
     "name": "stdout",
     "output_type": "stream",
     "text": [
      "+----------------+------------------------------+\n",
      "| PLAYER_OVERALL | MARKET_ALTERNATIVE (YES, NO) |\n",
      "+----------------+------------------------------+\n",
      "|   bad_player   |        0.970 - 0.030         |\n",
      "| normal_player  |        0.830 - 0.170         |\n",
      "|   top_player   |        0.220 - 0.780         |\n",
      "+----------------+------------------------------+\n",
      "+----------------+--------------------------------------+\n",
      "| PLAYER_OVERALL | YOUTH_ACCADEMY_ALTERNATIVE (YES, NO) |\n",
      "+----------------+--------------------------------------+\n",
      "|   bad_player   |            0.980 - 0.020             |\n",
      "| normal_player  |            0.430 - 0.570             |\n",
      "|   top_player   |            0.020 - 0.980             |\n",
      "+----------------+--------------------------------------+\n"
     ]
    }
   ],
   "source": [
    "# now we define the CPDs for market_alternative and youth_accademy_alternative given player_overall\n",
    "cpd_market_alternative = TabularCPD(\"market_alternative\", 2, [[.97, .83, .22],[.03, .17, .78]],\n",
    "                                    evidence = [\"player_overall\"], evidence_card=[3])\n",
    "print(print_cpd([\"market_alternative\", \"yes\", \"no\"], [[.97, .83, .22],[.03, .17, .78]],\n",
    "                [[\"player_overall\", \"bad_player\", \"normal_player\", \"top_player\"]]))\n",
    "\n",
    "\n",
    "cpd_youth_accademy_alternative = TabularCPD(\"youth_accademy_alternative\", 2, [[.98, .43, .02],[.02, .57, .98]],\n",
    "                                   evidence = [\"player_overall\"], evidence_card=[3])\n",
    "print(print_cpd([\"youth_accademy_alternative\", \"yes\", \"no\"], [[.98, .43, .02],[.02, .57, .98]],\n",
    "                [[\"player_overall\", \"bad_player\", \"normal_player\", \"top_player\"]]))"
   ]
  },
  {
   "cell_type": "code",
   "execution_count": 6,
   "id": "3cdf4bbc",
   "metadata": {},
   "outputs": [
    {
     "name": "stdout",
     "output_type": "stream",
     "text": [
      "+----------------------------+--------------------+--------------------------------------------------------+\n",
      "| YOUTH_ACCADEMY_ALTERNATIVE | MARKET_ALTERNATIVE | PLAYER_ALTERNATIVE (MARKET, YOUTH_ACCADEMY, NOT_EXIST) |\n",
      "+----------------------------+--------------------+--------------------------------------------------------+\n",
      "|            yes             |        yes         |                 0.500 - 0.500 - 0.000                  |\n",
      "|            yes             |         no         |                 0.350 - 0.650 - 0.000                  |\n",
      "|             no             |        yes         |                 0.970 - 0.030 - 0.000                  |\n",
      "|             no             |         no         |                 0.000 - 0.000 - 1.000                  |\n",
      "+----------------------------+--------------------+--------------------------------------------------------+\n"
     ]
    }
   ],
   "source": [
    "# then, we add the CPD for player_alternative given club_economic_situation, market_alternative \n",
    "# and youth_accademy_alternative\n",
    "cpd_value_player_alternative = [[.50, .35, .97, .00],\n",
    "                                [.50, .65, .03, .00],\n",
    "                                [.00, .00, .00, 1]]\n",
    "cpd_player_alternative = TabularCPD(\"player_alternative\", 3, cpd_value_player_alternative,\n",
    "                                    evidence = [\"youth_accademy_alternative\",\"market_alternative\"], \n",
    "                                    evidence_card=[2,2])\n",
    "print(print_cpd([\"player_alternative\", \"market\", \"youth_accademy\",\"not_exist\"], cpd_value_player_alternative,\n",
    "                [[\"youth_accademy_alternative\", \"yes\", \"no\"],\n",
    "                 [\"market_alternative\", \"yes\", \"no\"]]))"
   ]
  },
  {
   "cell_type": "code",
   "execution_count": 7,
   "id": "45e4bafc",
   "metadata": {},
   "outputs": [
    {
     "name": "stdout",
     "output_type": "stream",
     "text": [
      "+-------------------------+--------------------+----------------+\n",
      "| CLUB_ECONOMIC_SITUATION | PLAYER_ALTERNATIVE | SELL (YES, NO) |\n",
      "+-------------------------+--------------------+----------------+\n",
      "|          stable         |       market       | 0.350 - 0.650  |\n",
      "|          stable         |   youth_accademy   | 0.080 - 0.920  |\n",
      "|          stable         |     not_exist      | 0.100 - 0.900  |\n",
      "|          debts          |       market       | 0.780 - 0.220  |\n",
      "|          debts          |   youth_accademy   | 0.990 - 0.010  |\n",
      "|          debts          |     not_exist      | 0.650 - 0.350  |\n",
      "+-------------------------+--------------------+----------------+\n"
     ]
    }
   ],
   "source": [
    "# at the end, we have the final node Sell, given club_economic_situation and player_alternative\n",
    "cpd_value_Sell = [[.35, .08, .10, .78, .99, .65],\n",
    "                  [.65, .92, .90, .22, .01, .35]]\n",
    "cpd_Sell = TabularCPD(\"Sell\", 2, cpd_value_Sell,\n",
    "                      evidence = [\"club_economic_situation\", \"player_alternative\"], \n",
    "                      evidence_card = [2,3])\n",
    "print(print_cpd([\"Sell\", \"yes\", \"no\"], cpd_value_Sell,\n",
    "                [[\"club_economic_situation\", \"stable\", \"debts\"],\n",
    "                 [\"player_alternative\", \"market\", \"youth_accademy\", \"not_exist\"]]))"
   ]
  },
  {
   "cell_type": "code",
   "execution_count": 8,
   "id": "ec26e5e6",
   "metadata": {},
   "outputs": [],
   "source": [
    "network.add_cpds(cpd_age, cpd_last_year_performance, cpd_player_overall, cpd_market_alternative,\n",
    "                 cpd_youth_accademy_alternative, cpd_player_alternative, cpd_club_economic_situation,\n",
    "                 cpd_Sell)"
   ]
  },
  {
   "cell_type": "code",
   "execution_count": 9,
   "id": "61a609fe",
   "metadata": {},
   "outputs": [
    {
     "name": "stdout",
     "output_type": "stream",
     "text": [
      "True\n"
     ]
    }
   ],
   "source": [
    "print(network.check_model())"
   ]
  },
  {
   "cell_type": "markdown",
   "id": "11e711a9",
   "metadata": {},
   "source": [
    "### 4. Select the evidence(s)\n",
    "Here the user can choose 1 or more evidence(s); eventually it is possible not to use evidences (using \"not wanted\")."
   ]
  },
  {
   "cell_type": "code",
   "execution_count": 10,
   "id": "4dd1dd9a",
   "metadata": {},
   "outputs": [
    {
     "name": "stdout",
     "output_type": "stream",
     "text": [
      "Select the evidence(s)\n",
      "AGE\n",
      "0. young\n",
      "1. mature\n",
      "2. old\n",
      "3. not wanted\n",
      "Insert your decision:\t2\n",
      "===========================================\n",
      "\n",
      "LAST_YEAR_PERFORMANCE\n",
      "0. above_expectations\n",
      "1. under_expectations\n",
      "2. not wanted\n",
      "Insert your decision:\t1\n",
      "===========================================\n",
      "\n",
      "CLUB_ECONOMIC_SITUATION\n",
      "0. stable\n",
      "1. debts\n",
      "2. not wanted\n",
      "Insert your decision:\t1\n",
      "===========================================\n",
      "\n",
      "PLAYER_OVERALL\n",
      "0. bad_player\n",
      "1. normal_player\n",
      "2. top_player\n",
      "3. not wanted\n",
      "Insert your decision:\t3\n",
      "===========================================\n",
      "\n",
      "MARKET_ALTERNATIVE\n",
      "0. yes\n",
      "1. no\n",
      "2. not wanted\n",
      "Insert your decision:\t2\n",
      "===========================================\n",
      "\n",
      "YOUTH_ACCADEMY_ALTERNATIVE\n",
      "0. yes\n",
      "1. no\n",
      "2. not wanted\n",
      "Insert your decision:\t2\n",
      "===========================================\n",
      "\n",
      "PLAYER_ALTERNATIVE\n",
      "0. market\n",
      "1. youth_accademy\n",
      "2. not_exist\n",
      "3. not wanted\n",
      "Insert your decision:\t0\n",
      "===========================================\n",
      "\n",
      "\n",
      "P(Sell=yes | age=old, last_year_performance=under_expectations, club_economic_situation=debts, player_alternative=market)\n"
     ]
    }
   ],
   "source": [
    "# here we define a dcitionary with the definition of all the variables for each node\n",
    "dictionary_of_nodes = {\"age\":[\"young\", \"mature\",\"old\",\"not wanted\"],\n",
    "                       \"last_year_performance\":[\"above_expectations\",\"under_expectations\",\"not wanted\"],\n",
    "                       \"club_economic_situation\":[\"stable\", \"debts\",\"not wanted\"],\n",
    "                       \"player_overall\":[\"bad_player\", \"normal_player\", \"top_player\", \"not wanted\"],\n",
    "                       \"market_alternative\":[\"yes\", \"no\", \"not wanted\"],\n",
    "                       \"youth_accademy_alternative\":[\"yes\",\"no\",\"not wanted\"],\n",
    "                       \"player_alternative\":[\"market\",\"youth_accademy\",\"not_exist\",\"not wanted\"]}\n",
    "\n",
    "# we want the probability of Sell=yes. Otherwise, you can choose Sell=no putting \"no\" (1) instead \"yes\" (0)\n",
    "probability = {\"Sell\":\"yes\"}\n",
    "probability_for_sampling = {\"Sell\":0}\n",
    "\n",
    "evidence = {} # used for creating a query for the user\n",
    "evidence_for_sampling = {} # used for creating samples\n",
    "\n",
    "# user can choose the evidence(s)\n",
    "print(\"Select the evidence(s)\")\n",
    "for key in dictionary_of_nodes.keys():\n",
    "    print(key.upper())\n",
    "    count = 0\n",
    "    for i in dictionary_of_nodes[key]:\n",
    "        print(str(count) + \". \" + i)\n",
    "        count = count + 1\n",
    "    running = True\n",
    "    while running:\n",
    "        try:\n",
    "            input_decision = input(\"Insert your decision:\\t\")\n",
    "            # if the number is higher than the real dimension\n",
    "            if int(input_decision) >= len(dictionary_of_nodes[key]):\n",
    "                raise Exception(\"The number exceeds the dimension.\")\n",
    "            if not dictionary_of_nodes[key][int(input_decision)] == \"not wanted\":\n",
    "                evidence[key] = dictionary_of_nodes[key][int(input_decision)]      \n",
    "                evidence_for_sampling[key] = int(input_decision)\n",
    "        # also if the number isn't an integer\n",
    "        except Exception as ex:\n",
    "            print(ex)\n",
    "        else:\n",
    "            running = False\n",
    "        \n",
    "    print(\"===========================================\")\n",
    "    print()\n",
    "print()\n",
    "\n",
    "# now the program prints the query that the user chooses\n",
    "query = \"\"\n",
    "if not evidence:\n",
    "    query = \"P(Sell=\" + probability[\"Sell\"] + \")\"\n",
    "else:\n",
    "    query = \"P(Sell=\" + probability[\"Sell\"] + \" | \"\n",
    "    for key in evidence.keys():\n",
    "        if key == list(evidence.keys())[-1]:\n",
    "            query = query + key + \"=\" + evidence[key] + \")\"\n",
    "        else:\n",
    "            query = query + key + \"=\" + evidence[key] + \", \"\n",
    "print(query)"
   ]
  },
  {
   "cell_type": "code",
   "execution_count": 11,
   "id": "10aa0b3a",
   "metadata": {},
   "outputs": [
    {
     "name": "stdout",
     "output_type": "stream",
     "text": [
      "{'age': 2, 'last_year_performance': 1, 'club_economic_situation': 1, 'player_alternative': 0}\n"
     ]
    }
   ],
   "source": [
    "# here we print the dictionary for the evidence(s)\n",
    "print(evidence_for_sampling)"
   ]
  },
  {
   "cell_type": "markdown",
   "id": "bc7ba57b",
   "metadata": {},
   "source": [
    "### 5. Exact Value\n",
    "Here we define the block for calculating the exact value, using the Inference Variable Elimination."
   ]
  },
  {
   "cell_type": "code",
   "execution_count": 12,
   "id": "bd122612",
   "metadata": {},
   "outputs": [
    {
     "data": {
      "application/vnd.jupyter.widget-view+json": {
       "model_id": "a1e1c8561873438ea49c47d7c45bae5a",
       "version_major": 2,
       "version_minor": 0
      },
      "text/plain": [
       "0it [00:00, ?it/s]"
      ]
     },
     "metadata": {},
     "output_type": "display_data"
    },
    {
     "data": {
      "application/vnd.jupyter.widget-view+json": {
       "model_id": "5448e48b99d7458aba3c176eb0ecc99a",
       "version_major": 2,
       "version_minor": 0
      },
      "text/plain": [
       "0it [00:00, ?it/s]"
      ]
     },
     "metadata": {},
     "output_type": "display_data"
    },
    {
     "name": "stdout",
     "output_type": "stream",
     "text": [
      "The exact value for P(Sell=yes | age=old, last_year_performance=under_expectations, club_economic_situation=debts, player_alternative=market) is:\t0.78\n"
     ]
    }
   ],
   "source": [
    "# calculate the exact value given the evidence(s)\n",
    "network_inference = VariableElimination(network)\n",
    "q = network_inference.query(['Sell'], evidence_for_sampling)\n",
    "print(\"The exact value for \" + query + \" is:\\t\" + str(q.get_value(Sell=0)))\n",
    "exact_value = q.get_value(Sell=probability_for_sampling[\"Sell\"])"
   ]
  },
  {
   "cell_type": "markdown",
   "id": "9a86af24",
   "metadata": {},
   "source": [
    "### 6. Approximate Value\n",
    "Here we define the code for calculating the approximate value (using Likelihood Weighted)."
   ]
  },
  {
   "cell_type": "code",
   "execution_count": 13,
   "id": "8aef4687",
   "metadata": {},
   "outputs": [],
   "source": [
    "# calculate the approximate value given the evidence(s)\n",
    "# the function wants the evidence(s) as dictionary\n",
    "# the function wants the probability as a list, where the first element is the name of the node,\n",
    "# the second is the true variable (for Sell the true variable is yes)\n",
    "def approximate_value(dataframe, probability, evidence, weight):\n",
    "    cutter = []\n",
    "    probability_key = []\n",
    "    for key in probability.keys():\n",
    "        cutter.append(key)\n",
    "        probability_key.append(key)\n",
    "    for key in evidence.keys():\n",
    "        cutter.append(key)\n",
    "    cutter.append(weight)\n",
    "    _df1 = dataframe[cutter]\n",
    "    denominator = _df1[weight].sum()\n",
    "    _df2 = _df1.loc[_df1[probability_key[0]] == probability[probability_key[0]]]\n",
    "    numerator = _df2[weight].sum()\n",
    "    return numerator / denominator"
   ]
  },
  {
   "cell_type": "code",
   "execution_count": 14,
   "id": "c82fb895",
   "metadata": {
    "scrolled": false
   },
   "outputs": [
    {
     "name": "stdout",
     "output_type": "stream",
     "text": [
      "Number of iterations:\t20\n",
      "The minimum error is:\t0.1308%\n"
     ]
    },
    {
     "data": {
      "text/html": [
       "<div>\n",
       "<style scoped>\n",
       "    .dataframe tbody tr th:only-of-type {\n",
       "        vertical-align: middle;\n",
       "    }\n",
       "\n",
       "    .dataframe tbody tr th {\n",
       "        vertical-align: top;\n",
       "    }\n",
       "\n",
       "    .dataframe thead th {\n",
       "        text-align: right;\n",
       "    }\n",
       "</style>\n",
       "<table border=\"1\" class=\"dataframe\">\n",
       "  <thead>\n",
       "    <tr style=\"text-align: right;\">\n",
       "      <th></th>\n",
       "      <th>age</th>\n",
       "      <th>player_overall</th>\n",
       "      <th>last_year_performance</th>\n",
       "      <th>club_economic_situation</th>\n",
       "      <th>Sell</th>\n",
       "      <th>youth_accademy_alternative</th>\n",
       "      <th>market_alternative</th>\n",
       "      <th>player_alternative</th>\n",
       "      <th>_weight</th>\n",
       "    </tr>\n",
       "  </thead>\n",
       "  <tbody>\n",
       "    <tr>\n",
       "      <th>0</th>\n",
       "      <td>2</td>\n",
       "      <td>2</td>\n",
       "      <td>1</td>\n",
       "      <td>1</td>\n",
       "      <td>0</td>\n",
       "      <td>1</td>\n",
       "      <td>0</td>\n",
       "      <td>0</td>\n",
       "      <td>0.071350</td>\n",
       "    </tr>\n",
       "    <tr>\n",
       "      <th>1</th>\n",
       "      <td>2</td>\n",
       "      <td>0</td>\n",
       "      <td>1</td>\n",
       "      <td>1</td>\n",
       "      <td>0</td>\n",
       "      <td>0</td>\n",
       "      <td>0</td>\n",
       "      <td>0</td>\n",
       "      <td>0.036778</td>\n",
       "    </tr>\n",
       "    <tr>\n",
       "      <th>2</th>\n",
       "      <td>2</td>\n",
       "      <td>0</td>\n",
       "      <td>1</td>\n",
       "      <td>1</td>\n",
       "      <td>1</td>\n",
       "      <td>0</td>\n",
       "      <td>0</td>\n",
       "      <td>0</td>\n",
       "      <td>0.036778</td>\n",
       "    </tr>\n",
       "    <tr>\n",
       "      <th>3</th>\n",
       "      <td>2</td>\n",
       "      <td>0</td>\n",
       "      <td>1</td>\n",
       "      <td>1</td>\n",
       "      <td>0</td>\n",
       "      <td>0</td>\n",
       "      <td>0</td>\n",
       "      <td>0</td>\n",
       "      <td>0.036778</td>\n",
       "    </tr>\n",
       "    <tr>\n",
       "      <th>4</th>\n",
       "      <td>2</td>\n",
       "      <td>1</td>\n",
       "      <td>1</td>\n",
       "      <td>1</td>\n",
       "      <td>0</td>\n",
       "      <td>0</td>\n",
       "      <td>1</td>\n",
       "      <td>0</td>\n",
       "      <td>0.025745</td>\n",
       "    </tr>\n",
       "    <tr>\n",
       "      <th>...</th>\n",
       "      <td>...</td>\n",
       "      <td>...</td>\n",
       "      <td>...</td>\n",
       "      <td>...</td>\n",
       "      <td>...</td>\n",
       "      <td>...</td>\n",
       "      <td>...</td>\n",
       "      <td>...</td>\n",
       "      <td>...</td>\n",
       "    </tr>\n",
       "    <tr>\n",
       "      <th>260284</th>\n",
       "      <td>2</td>\n",
       "      <td>0</td>\n",
       "      <td>1</td>\n",
       "      <td>1</td>\n",
       "      <td>0</td>\n",
       "      <td>0</td>\n",
       "      <td>0</td>\n",
       "      <td>0</td>\n",
       "      <td>0.036778</td>\n",
       "    </tr>\n",
       "    <tr>\n",
       "      <th>260285</th>\n",
       "      <td>2</td>\n",
       "      <td>1</td>\n",
       "      <td>1</td>\n",
       "      <td>1</td>\n",
       "      <td>0</td>\n",
       "      <td>1</td>\n",
       "      <td>0</td>\n",
       "      <td>0</td>\n",
       "      <td>0.071350</td>\n",
       "    </tr>\n",
       "    <tr>\n",
       "      <th>260286</th>\n",
       "      <td>2</td>\n",
       "      <td>2</td>\n",
       "      <td>1</td>\n",
       "      <td>1</td>\n",
       "      <td>0</td>\n",
       "      <td>1</td>\n",
       "      <td>1</td>\n",
       "      <td>0</td>\n",
       "      <td>0.000000</td>\n",
       "    </tr>\n",
       "    <tr>\n",
       "      <th>260287</th>\n",
       "      <td>2</td>\n",
       "      <td>2</td>\n",
       "      <td>1</td>\n",
       "      <td>1</td>\n",
       "      <td>0</td>\n",
       "      <td>1</td>\n",
       "      <td>1</td>\n",
       "      <td>0</td>\n",
       "      <td>0.000000</td>\n",
       "    </tr>\n",
       "    <tr>\n",
       "      <th>260288</th>\n",
       "      <td>2</td>\n",
       "      <td>2</td>\n",
       "      <td>1</td>\n",
       "      <td>1</td>\n",
       "      <td>1</td>\n",
       "      <td>1</td>\n",
       "      <td>1</td>\n",
       "      <td>0</td>\n",
       "      <td>0.000000</td>\n",
       "    </tr>\n",
       "  </tbody>\n",
       "</table>\n",
       "<p>260289 rows × 9 columns</p>\n",
       "</div>"
      ],
      "text/plain": [
       "        age  player_overall  last_year_performance  club_economic_situation  \\\n",
       "0         2               2                      1                        1   \n",
       "1         2               0                      1                        1   \n",
       "2         2               0                      1                        1   \n",
       "3         2               0                      1                        1   \n",
       "4         2               1                      1                        1   \n",
       "...     ...             ...                    ...                      ...   \n",
       "260284    2               0                      1                        1   \n",
       "260285    2               1                      1                        1   \n",
       "260286    2               2                      1                        1   \n",
       "260287    2               2                      1                        1   \n",
       "260288    2               2                      1                        1   \n",
       "\n",
       "        Sell  youth_accademy_alternative  market_alternative  \\\n",
       "0          0                           1                   0   \n",
       "1          0                           0                   0   \n",
       "2          1                           0                   0   \n",
       "3          0                           0                   0   \n",
       "4          0                           0                   1   \n",
       "...      ...                         ...                 ...   \n",
       "260284     0                           0                   0   \n",
       "260285     0                           1                   0   \n",
       "260286     0                           1                   1   \n",
       "260287     0                           1                   1   \n",
       "260288     1                           1                   1   \n",
       "\n",
       "        player_alternative   _weight  \n",
       "0                        0  0.071350  \n",
       "1                        0  0.036778  \n",
       "2                        0  0.036778  \n",
       "3                        0  0.036778  \n",
       "4                        0  0.025745  \n",
       "...                    ...       ...  \n",
       "260284                   0  0.036778  \n",
       "260285                   0  0.071350  \n",
       "260286                   0  0.000000  \n",
       "260287                   0  0.000000  \n",
       "260288                   0  0.000000  \n",
       "\n",
       "[260289 rows x 9 columns]"
      ]
     },
     "execution_count": 14,
     "metadata": {},
     "output_type": "execute_result"
    }
   ],
   "source": [
    "# creation of the samples given the evidence(s)\n",
    "inference = BayesianModelSampling(network)\n",
    "evidence = []\n",
    "\n",
    "# here we extract the evidence(s) variable(s)\n",
    "for key in evidence_for_sampling.keys():\n",
    "    evidence.append(State(key, evidence_for_sampling[key]))\n",
    "\n",
    "# used for generating the size of samples dataframe\n",
    "start = 1 # 10^1\n",
    "stop = 5  # 10^5\n",
    "experiments = 20\n",
    "seed = 10\n",
    "\n",
    "# samples generated | abs_error | approx_value\n",
    "results = np.array([],dtype=[('sample_generated', '<i8'), \n",
    "                             ('abs_error', '<f8'),\n",
    "                             ('approx_value', '<f8')])\n",
    "\n",
    "# create the dataframe with only 1 sample; this is because we append the new samples dataframe \n",
    "# to the previous dataframe, for having more samples and a better probability\n",
    "# note that we will use the \"seed\" for having randomly between samples dataframe\n",
    "# in this case, we will have a final dataframe with 260289 samples\n",
    "df = inference.likelihood_weighted_sample(evidence=evidence, size=1, seed=seed, show_progress=False)\n",
    "\n",
    "for i in np.logspace(start, stop, num=experiments, dtype='<i8'):\n",
    "    seed = seed + 1 # at each iteration we change the seed\n",
    "    \n",
    "    # creation of the samples\n",
    "    _tmp = inference.likelihood_weighted_sample(evidence=evidence, size=int(i), seed=seed, show_progress=False)\n",
    "    \n",
    "    # add the new samples to the previous dataframe\n",
    "    df = df.append(_tmp, ignore_index=True)\n",
    "    approx_value = approximate_value(df, probability_for_sampling, evidence_for_sampling, \"_weight\")\n",
    "    results = np.append(results,np.array([(int(i), abs((exact_value-approx_value)/exact_value), approx_value)],  \n",
    "                                          dtype=[('sample_generated', '<i8'), \n",
    "                                                 ('abs_error', '<f8'),\n",
    "                                                 ('approx_value', '<f8')]))\n",
    "print(\"Number of iterations:\\t\" + str(experiments))\n",
    "print(\"The minimum error is:\\t{:.4f}%\".format(min(list(results['abs_error']))*100))\n",
    "df"
   ]
  },
  {
   "cell_type": "code",
   "execution_count": 15,
   "id": "e46db5fb",
   "metadata": {},
   "outputs": [
    {
     "data": {
      "text/plain": [
       "array([(    10, 0.26486869, 0.57340242), (    16, 0.04057172, 0.74835406),\n",
       "       (    26, 0.01394547, 0.79087746), (    42, 0.02918227, 0.75723783),\n",
       "       (    69, 0.04438477, 0.74537988), (   112, 0.0092037 , 0.77282112),\n",
       "       (   183, 0.0130893 , 0.76979035), (   297, 0.00130792, 0.77897982),\n",
       "       (   483, 0.01463544, 0.76858436), (   784, 0.02357358, 0.76161261),\n",
       "       (  1274, 0.01428695, 0.76885618), (  2069, 0.01036431, 0.77191584),\n",
       "       (  3359, 0.01160972, 0.77094442), (  5455, 0.00780601, 0.77391132),\n",
       "       (  8858, 0.00723691, 0.77435521), ( 14384, 0.00726497, 0.77433333),\n",
       "       ( 23357, 0.00459637, 0.77641483), ( 37926, 0.00474827, 0.77629635),\n",
       "       ( 61584, 0.00367799, 0.77713116), (100000, 0.0024508 , 0.77808838)],\n",
       "      dtype=[('sample_generated', '<i8'), ('abs_error', '<f8'), ('approx_value', '<f8')])"
      ]
     },
     "execution_count": 15,
     "metadata": {},
     "output_type": "execute_result"
    }
   ],
   "source": [
    "# samples generated | abs_error | approx_value\n",
    "results"
   ]
  },
  {
   "cell_type": "markdown",
   "id": "4ba051f7",
   "metadata": {},
   "source": [
    "### 7. Results\n",
    "The blocks below show:\n",
    "- the plot of the absolute error on the query that the user selected;\n",
    "- the approximate probability at each iteration, compared to the exact value."
   ]
  },
  {
   "cell_type": "code",
   "execution_count": 16,
   "id": "af53e248",
   "metadata": {},
   "outputs": [
    {
     "data": {
      "image/png": "[encoded data removed]",
      "text/plain": [
       "<Figure size 1440x360 with 1 Axes>"
      ]
     },
     "metadata": {
      "needs_background": "light"
     },
     "output_type": "display_data"
    }
   ],
   "source": [
    "plt.figure(figsize=(20,5))\n",
    "plt.title('Absolute error on ' + query)\n",
    "LWplot = plt.semilogx(results['sample_generated'],results['abs_error'],'b',label=\"Likelihood Weighting\")\n",
    "plt.legend(handles=LWplot)\n",
    "plt.show()"
   ]
  },
  {
   "cell_type": "code",
   "execution_count": 17,
   "id": "d05fa1bb",
   "metadata": {},
   "outputs": [
    {
     "data": {
      "image/png": "[encoded data removed]",
      "text/plain": [
       "<Figure size 1440x360 with 1 Axes>"
      ]
     },
     "metadata": {
      "needs_background": "light"
     },
     "output_type": "display_data"
    },
    {
     "name": "stdout",
     "output_type": "stream",
     "text": [
      "Number of total samples:       260289\n",
      "The Reference Value is:        0.7800\n",
      "The Approximate Probability for the minimum error is:   0.7790 %\n",
      "The minimum error found is:                             0.1308 %\n",
      "Number of samples with this best configuration:            297\n"
     ]
    }
   ],
   "source": [
    "plt.figure(figsize=(20,5))\n",
    "plt.title(query)\n",
    "LWplot, = plt.semilogx(results['sample_generated'],results['approx_value'],'b',label=\"Likelihood Weighting\")\n",
    "RVplot, = plt.semilogx(results['sample_generated'],exact_value*np.ones(results.size),'r',label=\"Reference Value\")\n",
    "plt.legend(handles=[LWplot, RVplot])\n",
    "plt.show()\n",
    "print(\"Number of total samples:      {:>7}\".format(df.shape[0]))\n",
    "print(\"The Reference Value is:        {:>.4f}\".format(exact_value))\n",
    "best_min_error = np.amin(results['abs_error'])\n",
    "for i in results:\n",
    "    if i['abs_error'] == best_min_error:\n",
    "        samples, best_probability = i['sample_generated'],i['approx_value']\n",
    "print(\"The Approximate Probability for the minimum error is:   {:>.4f} %\".format(best_probability))\n",
    "print(\"The minimum error found is:                             {:>.4f} %\".format(best_min_error*100))\n",
    "print(\"Number of samples with this best configuration:        {:>7}\".format(samples))"
   ]
  },
  {
   "cell_type": "code",
   "execution_count": null,
   "id": "3365aabf",
   "metadata": {
    "scrolled": true
   },
   "outputs": [],
   "source": []
  },
  {
   "cell_type": "code",
   "execution_count": null,
   "id": "278f87f7",
   "metadata": {},
   "outputs": [],
   "source": []
  }
 ],
 "metadata": {
  "kernelspec": {
   "display_name": "Python 3",
   "language": "python",
   "name": "python3"
  },
  "language_info": {
   "codemirror_mode": {
    "name": "ipython",
    "version": 3
   },
   "file_extension": ".py",
   "mimetype": "text/x-python",
   "name": "python",
   "nbconvert_exporter": "python",
   "pygments_lexer": "ipython3",
   "version": "3.8.8"
  }
 },
 "nbformat": 4,
 "nbformat_minor": 5
}
