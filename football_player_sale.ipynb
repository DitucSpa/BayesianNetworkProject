{
 "cells": [
  {
   "cell_type": "code",
   "execution_count": 13,
   "id": "d23ec663",
   "metadata": {},
   "outputs": [
    {
     "data": {
      "text/plain": [
       "[<TabularCPD representing P(Cloudy:2) at 0x7f8c39d71100>,\n",
       " <TabularCPD representing P(Sprinkler:2 | Cloudy:2) at 0x7f8c39d8f3d0>,\n",
       " <TabularCPD representing P(Rain:2 | Cloudy:2) at 0x7f8c39d8f310>,\n",
       " <TabularCPD representing P(WetGrass:2 | Sprinkler:2, Rain:2) at 0x7f8c39d8f430>]"
      ]
     },
     "execution_count": 13,
     "metadata": {},
     "output_type": "execute_result"
    }
   ],
   "source": [
    "import numpy as np\n",
    "import matplotlib.pyplot as plt\n",
    "from pgmpy.factors.discrete import State\n",
    "from pgmpy.models import BayesianNetwork\n",
    "from pgmpy.factors.discrete import TabularCPD\n",
    "from pgmpy.inference import VariableElimination\n",
    "from pgmpy.sampling import BayesianModelSampling\n",
    "\n",
    "# Compare values down to 3rd digit\n",
    "precision = 3\n",
    "\n",
    "# Defining the network structure\n",
    "network = BayesianNetwork([('Cloudy', 'Rain'), ('Cloudy', 'Sprinkler'), ('Sprinkler', 'WetGrass'), ('Rain', 'WetGrass')])\n",
    "\n",
    "# Defining the CPDs:\n",
    "cpd_cloudy = TabularCPD('Cloudy', 2, [[.5],[.5]])\n",
    "cpd_sprinkler = TabularCPD('Sprinkler', 2, [[.1,.5],[.9,.5]], evidence = ['Cloudy'], evidence_card=[2])\n",
    "cpd_rain = TabularCPD('Rain', 2, [[.8,.2],[.2,.8]], evidence = ['Cloudy'], evidence_card=[2])\n",
    "cpd_wetgrass = TabularCPD('WetGrass', 2, [[.99,.9,.9,.01],[.01,.1,.1,.99]], evidence = ['Sprinkler','Rain'], evidence_card=[2,2])\n",
    "network.add_cpds(cpd_cloudy,cpd_sprinkler,cpd_rain,cpd_wetgrass)\n",
    "network.get_cpds()\n",
    "#network.check_model()"
   ]
  },
  {
   "cell_type": "markdown",
   "id": "c39ec58d",
   "metadata": {},
   "source": [
    "### 1. Build the Network<br>\n",
    "Now we build our Bayesian Network, from starting to top to the bottom"
   ]
  },
  {
   "cell_type": "code",
   "execution_count": 16,
   "id": "38090516",
   "metadata": {},
   "outputs": [
    {
     "name": "stdout",
     "output_type": "stream",
     "text": [
      "[('age', 'own_club_player_overall'), ('last_year_performance', 'own_club_player_overall')]\n"
     ]
    }
   ],
   "source": [
    "list_of_edges = []\n",
    "\n",
    "# the first connections are: \"age\" and \"last_year_performance\" on \"own_club_player_overall\"\n",
    "list_of_edges.append((\"age\", \"own_club_player_overall\"))\n",
    "list_of_edges.append((\"last_year_performance\", \"own_club_player_overall\"))\n",
    "\n",
    "# then, we add the connection between \n",
    "\n",
    "# evidence_card: cardinality/no. of states of variables in `evidence`(if any)\n",
    "#network = BayesianNetwork(\n",
    "\n"
   ]
  },
  {
   "cell_type": "code",
   "execution_count": 6,
   "id": "80229ae6",
   "metadata": {},
   "outputs": [],
   "source": []
  },
  {
   "cell_type": "code",
   "execution_count": 9,
   "id": "a82be5c5",
   "metadata": {},
   "outputs": [
    {
     "data": {
      "text/plain": [
       "[<TabularCPD representing P(Cloudy:2) at 0x7f8c39d710d0>,\n",
       " <TabularCPD representing P(Sprinkler:2 | Cloudy:2) at 0x7f8c58486ca0>]"
      ]
     },
     "execution_count": 9,
     "metadata": {},
     "output_type": "execute_result"
    }
   ],
   "source": []
  },
  {
   "cell_type": "code",
   "execution_count": null,
   "id": "ec26e5e6",
   "metadata": {},
   "outputs": [],
   "source": []
  }
 ],
 "metadata": {
  "kernelspec": {
   "display_name": "Python 3",
   "language": "python",
   "name": "python3"
  },
  "language_info": {
   "codemirror_mode": {
    "name": "ipython",
    "version": 3
   },
   "file_extension": ".py",
   "mimetype": "text/x-python",
   "name": "python",
   "nbconvert_exporter": "python",
   "pygments_lexer": "ipython3",
   "version": "3.8.8"
  }
 },
 "nbformat": 4,
 "nbformat_minor": 5
}
